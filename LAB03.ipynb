{
  "nbformat": 4,
  "nbformat_minor": 0,
  "metadata": {
    "colab": {
      "provenance": [],
      "authorship_tag": "ABX9TyMfT2Rum8/KrTMu/Ie2Zkvo",
      "include_colab_link": true
    },
    "kernelspec": {
      "name": "python3",
      "display_name": "Python 3"
    },
    "language_info": {
      "name": "python"
    }
  },
  "cells": [
    {
      "cell_type": "markdown",
      "metadata": {
        "id": "view-in-github",
        "colab_type": "text"
      },
      "source": [
        "<a href=\"https://colab.research.google.com/github/MitehReddy/AIML-2025/blob/main/LAB03.ipynb\" target=\"_parent\"><img src=\"https://colab.research.google.com/assets/colab-badge.svg\" alt=\"Open In Colab\"/></a>"
      ]
    },
    {
      "cell_type": "code",
      "execution_count": null,
      "metadata": {
        "id": "mh87r8TQOLJt"
      },
      "outputs": [],
      "source": [
        "from collections import namedtuple, Counter, defaultdict\n",
        "import random\n",
        "import math\n",
        "import functools\n",
        "cache=functools.lru_cache(10**6)\n"
      ]
    },
    {
      "cell_type": "code",
      "source": [
        "class Game:\n",
        "  \"\"\"A game is similar to a problem but it has a termination\n",
        "    a goal test, and a utility for each terminal state,to\n",
        "    subclass and implement actions, result, is_terminal,utility,\"\"\"\n",
        "\n",
        "  def actions (self , state ):\n",
        "    '''Return a collection of the allowable moves from this state .'''\n",
        "    raise NotImplementedError\n",
        "  def result (self , state , move ):\n",
        "    '''Return the state that results from making a move from a state .'''\n",
        "    raise NotImplementedError\n",
        "  def is_terminal (self , state ):\n",
        "    #Return True if this is a final state for the game.”””\n",
        "    return not self. actions (state)\n",
        "  def utility (self , state , player ):\n",
        "  #  ”””Return the value of this final state to player.”””\n",
        "    raise NotImplementedError"
      ],
      "metadata": {
        "id": "ha_A4QfpPyRJ"
      },
      "execution_count": null,
      "outputs": []
    },
    {
      "cell_type": "code",
      "source": [
        "def play_game (game , strategies : dict , verbose =False ):\n",
        "#”””Play a turn−taking game. ‘strategies ‘ is a {player name: function} dict ,\n",
        "#where function(state , game) is used to get the player ’s move.”””\n",
        "  state = game. initial\n",
        "  while not game.is_terminal (state ):\n",
        "    player = state. to_move\n",
        "    move = strategies [ player ](game , state)\n",
        "    state = game. result (state , move)\n",
        "    if verbose :\n",
        "      print('Player', player , 'move:', move)\n",
        "      print(state)\n",
        "  return state"
      ],
      "metadata": {
        "id": "liaBMhKYSTqL"
      },
      "execution_count": null,
      "outputs": []
    },
    {
      "cell_type": "code",
      "source": [
        "def minimax_search (game , state ):\n",
        "#”””Search game tree to determine best move; return (value, move) pair.”””\n",
        "  player = state. to_move\n",
        "  def maxvalue (state ):\n",
        "    if game. is_terminal (state ):\n",
        "      return game. utility (state , player ), None\n",
        "    v, move = - infinity, None\n",
        "  for a in game. actions (state ):\n",
        "    v2 , = min_value (game. result (state , a))\n",
        "    if v2 > v:\n",
        "      v, move = v2 , a\n",
        "    return v, move\n",
        "  def min_value (state ):\n",
        "    if game.is_terminal (state ):\n",
        "      return game. utility (state , player ), None\n",
        "      v, move = +infinity , None\n",
        "    for a in game. actions (state ):\n",
        "      v2 , = max_value (game. result (state , a))\n",
        "      if v2 < v:\n",
        "        v, move = v2 , a\n",
        "      return v, move\n",
        "    return max_value (state)\n",
        "  infinity = math.inf"
      ],
      "metadata": {
        "id": "oRyYgW-VTjH0"
      },
      "execution_count": null,
      "outputs": []
    },
    {
      "cell_type": "code",
      "source": [
        "def alphabeta_search (game , state ):\n",
        "#”””Search game to determine best action; use alpha−beta pruning.\n",
        "#””Search all the way to the leaves .”””\n",
        "  player = state. to_move\n",
        "  def max_value (state , alpha , beta ):\n",
        "    if game. is_terminal (state ):\n",
        "      return game. utility (state , player ), None\n",
        "      v, move = - infinity , None\n",
        "      for a in game. actions (state ):\n",
        "        v2 , = min_value (game. result (state , a), alpha , beta)\n",
        "        if v2 > v:\n",
        "            v, move = v2 , a\n",
        "            alpha = max(alpha , v)\n",
        "            if v >= beta:\n",
        "              return v, move\n",
        "              return v, move\n",
        "  def min_value (state , alpha , beta ):\n",
        "    if game. is_terminal (state ):\n",
        "      return game. utility (state , player ), None\n",
        "      v, move = +infinity , None\n",
        "      for a in game. actions (state ):\n",
        "        v2 , = max_value (game. result (state , a), alpha , beta)\n",
        "        if v2 < v:\n",
        "          v, move = v2 , a\n",
        "          beta = min(beta , v)\n",
        "          if v <= alpha:\n",
        "            return v, move\n",
        "            return v, move\n",
        "    return max_value (state , - infinity , + infinity )"
      ],
      "metadata": {
        "id": "yd0zAdQEXoDS"
      },
      "execution_count": null,
      "outputs": []
    }
  ]
}