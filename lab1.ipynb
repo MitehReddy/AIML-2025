{
  "nbformat": 4,
  "nbformat_minor": 0,
  "metadata": {
    "colab": {
      "provenance": [],
      "include_colab_link": true
    },
    "kernelspec": {
      "name": "python3",
      "display_name": "Python 3"
    },
    "language_info": {
      "name": "python"
    }
  },
  "cells": [
    {
      "cell_type": "markdown",
      "metadata": {
        "id": "view-in-github",
        "colab_type": "text"
      },
      "source": [
        "<a href=\"https://colab.research.google.com/github/MitehReddy/AIML-2025/blob/main/lab1.ipynb\" target=\"_parent\"><img src=\"https://colab.research.google.com/assets/colab-badge.svg\" alt=\"Open In Colab\"/></a>"
      ]
    },
    {
      "cell_type": "code",
      "execution_count": null,
      "metadata": {
        "id": "DXujPpqoOiqI"
      },
      "outputs": [],
      "source": []
    },
    {
      "cell_type": "markdown",
      "source": [
        "part1: Implement basic data structures using Numpy,Pandas"
      ],
      "metadata": {
        "id": "hB7wDEa4Oj8R"
      }
    },
    {
      "cell_type": "code",
      "source": [
        "import numpy as np\n",
        "import matplotlib.pyplot as plt\n",
        "import pandas as pd\n",
        "\n",
        "list1 = [1,2,3,4]\n",
        "array1 = np.array(list1)\n",
        "array1\n",
        "array2 = np.array([1,2,3,4])\n",
        "list, array1, array2"
      ],
      "metadata": {
        "colab": {
          "base_uri": "https://localhost:8080/"
        },
        "id": "4QK-7nU1PF7f",
        "outputId": "6fef0d22-779f-4aff-cfdd-c2d27ed68ce7"
      },
      "execution_count": null,
      "outputs": [
        {
          "output_type": "execute_result",
          "data": {
            "text/plain": [
              "(list, array([1, 2, 3, 4]), array([1, 2, 3, 4]))"
            ]
          },
          "metadata": {},
          "execution_count": 3
        }
      ]
    },
    {
      "cell_type": "code",
      "source": [
        "## Identify the type of data structure\n",
        "type(list1), type(array1), type(array2)"
      ],
      "metadata": {
        "colab": {
          "base_uri": "https://localhost:8080/"
        },
        "id": "6y5381OFQGkW",
        "outputId": "64bfae33-e451-4f36-baac-775734b09aab"
      },
      "execution_count": null,
      "outputs": [
        {
          "output_type": "execute_result",
          "data": {
            "text/plain": [
              "(list, numpy.ndarray, numpy.ndarray)"
            ]
          },
          "metadata": {},
          "execution_count": 4
        }
      ]
    },
    {
      "cell_type": "code",
      "source": [
        "##perform Mathematical operations on arrays, lists\n",
        "print(\"Adding two arrays:\",array1+array2)\n",
        "print(\"subtracting two arrays:\",array1-array2)\n",
        "print(\"Multiplying two arrays:\",array1*array2)\n",
        "print(\"dividing two arrays:\",array1/array2)\n",
        "print(\"Exponentiating two arrays:\",array1**array2)\n",
        "print(\"multiply array to list:\",array2*list1)"
      ],
      "metadata": {
        "colab": {
          "base_uri": "https://localhost:8080/"
        },
        "id": "y2TC_KQJQaeE",
        "outputId": "7caf6757-7da3-4dbb-d906-493ace408abe"
      },
      "execution_count": null,
      "outputs": [
        {
          "output_type": "stream",
          "name": "stdout",
          "text": [
            "Adding two arrays: [2 4 6 8]\n",
            "subtracting two arrays: [0 0 0 0]\n",
            "Multiplying two arrays: [ 1  4  9 16]\n",
            "dividing two arrays: [1. 1. 1. 1.]\n",
            "Exponentiating two arrays: [  1   4  27 256]\n",
            "multiply array to list: [ 1  4  9 16]\n"
          ]
        }
      ]
    },
    {
      "cell_type": "code",
      "source": [
        "#combine text with numpy function\n",
        "print(f\"Adding {array1}with {array2}\")\n",
        "print(f\"Result:{np.add(array1,array2)}\")"
      ],
      "metadata": {
        "colab": {
          "base_uri": "https://localhost:8080/"
        },
        "id": "D-En2hMYTLco",
        "outputId": "2f67254e-2af8-40e0-82ee-f2ae14d331ab"
      },
      "execution_count": null,
      "outputs": [
        {
          "output_type": "stream",
          "name": "stdout",
          "text": [
            "Adding [1 2 3 4]with [1 2 3 4]\n",
            "Result:[2 4 6 8]\n"
          ]
        }
      ]
    },
    {
      "cell_type": "code",
      "source": [
        "#find the sin, log, log2, exp values\n",
        "print(f\"sin value of array1:{np.sin(array1)}\")\n",
        "print(f\"log value of array1: {np.log(array1)}\")\n",
        "print(f\"log base2 value of array1:{np.log2(array1)}\")\n",
        "print(f\"log base10 value of array1: {np.log10(array1)}\")\n",
        "print(f\"exponential value of array1:{np.exp(array1)}\")"
      ],
      "metadata": {
        "colab": {
          "base_uri": "https://localhost:8080/"
        },
        "id": "vZUd245KT4Te",
        "outputId": "a6bc4abf-508a-496f-8eea-c0b858c8267e"
      },
      "execution_count": null,
      "outputs": [
        {
          "output_type": "stream",
          "name": "stdout",
          "text": [
            "sin value of array1:[ 0.84147098  0.90929743  0.14112001 -0.7568025 ]\n",
            "log value of array1: [0.         0.69314718 1.09861229 1.38629436]\n",
            "log base2 value of array1:[0.        1.        1.5849625 2.       ]\n",
            "log base10 value of array1: [0.         0.30103    0.47712125 0.60205999]\n",
            "exponential value of array1:[ 2.71828183  7.3890561  20.08553692 54.59815003]\n"
          ]
        }
      ]
    }
  ]
}